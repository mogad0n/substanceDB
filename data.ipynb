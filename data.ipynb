{
 "cells": [
  {
   "cell_type": "code",
   "execution_count": 47,
   "metadata": {},
   "outputs": [],
   "source": [
    "import pandas as pd\n",
    "from sqlalchemy import create_engine, Integer, PickleType, String, ARRAY, BINARY, JSON\n",
    "\n",
    "engine = create_engine(\"postgresql://\")\n",
    "df = pd.read_json('./sources/merge-psychonautwiki-tripist-data/pandas_substance_data.json')"
   ]
  },
  {
   "cell_type": "code",
   "execution_count": 51,
   "metadata": {},
   "outputs": [],
   "source": [
    "dtypes = {'name': String(32), 'aliases': JSON(), 'url': String(128), 'experiencesUrl': String(128), 'summary': String(1024), 'reagents': String(1024), 'classes': JSON(), 'toxicity': JSON(), 'addictionPotential': String(128), 'tolerance': JSON(), 'crossTolerances': JSON(), 'roas': JSON(), 'interactions': JSON()}"
   ]
  },
  {
   "cell_type": "code",
   "execution_count": 52,
   "metadata": {},
   "outputs": [],
   "source": [
    "df.to_sql(\"substances\", con=engine, if_exists='replace', index=False, dtype=dtypes)"
   ]
  }
 ],
 "metadata": {
  "interpreter": {
   "hash": "e9d410c271572155f4409ac61bf905aa0b5605a442fb1ec58fee9d7a186a6c57"
  },
  "kernelspec": {
   "display_name": "Python 3.8.12 64-bit ('substance_data': conda)",
   "name": "python3"
  },
  "language_info": {
   "codemirror_mode": {
    "name": "ipython",
    "version": 3
   },
   "file_extension": ".py",
   "mimetype": "text/x-python",
   "name": "python",
   "nbconvert_exporter": "python",
   "pygments_lexer": "ipython3",
   "version": "3.8.12"
  },
  "orig_nbformat": 4
 },
 "nbformat": 4,
 "nbformat_minor": 2
}
